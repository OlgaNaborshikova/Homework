{
 "cells": [
  {
   "cell_type": "code",
   "execution_count": null,
   "metadata": {},
   "outputs": [
    {
     "name": "stdout",
     "output_type": "stream",
     "text": [
      "\n",
      " Введите одну из команд: p, l, s,  as. \n",
      "  Ваша команда:as\n",
      "введите номер полки1\n",
      "введенная полка уже существует\n",
      "\n",
      " Введите одну из команд: p, l, s,  as. \n",
      "  Ваша команда:ad\n",
      "введите номер полки1\n",
      "полку удалить нельзя\n",
      "\n",
      " Введите одну из команд: p, l, s,  as. \n",
      "  Ваша команда:ad\n",
      "введите номер полки3\n",
      "полка удалена: ['1', '2']\n"
     ]
    }
   ],
   "source": [
    "documents = [\n",
    "{'type': 'passport', 'number': '2207 876234', 'name': 'Василий Гупкин'},\n",
    "{'type': 'invoice', 'number': '11-2', 'name': 'Геннадий Покемонов'},\n",
    "{'type': 'insurance', 'number': '10006', 'name': 'Аристарх Павлов'}\n",
    "]\n",
    "directories = {\n",
    "'1': ['2207 876234', '11-2'],\n",
    "'2': ['10006'],\n",
    "'3': []\n",
    "}\n",
    "\n",
    "def people(number):\n",
    "    for doc  in documents:\n",
    "         if doc[\"number\"]== number:\n",
    "            print (doc[\"name\"])\n",
    "            break\n",
    "    else:\n",
    "        print('Такого номера документа нет в базе.')\n",
    "        \n",
    "def safe(number):\n",
    "    dir = list(filter(lambda e: number in e[1], directories.items()))[0]\n",
    "    print(dir[0]) # первый елемент, т.е. номер директории \n",
    "    \n",
    "def information():\n",
    "    for persons in documents:\n",
    "         #  print(persons['type'], '\"'+persons['number']+'\"', '\"'+persons['name']+'\"')\n",
    "        dir = list(filter(lambda e: persons['number'] in e[1], directories.items()))[0]\n",
    "        persons['directory'] = dir[0]\n",
    "        print(persons)\n",
    "         \n",
    "def polka(directories_number):\n",
    "    #directories.append()\n",
    "#print (\"обновление списка : \", directories)\n",
    "    if int(directories_number) == 1 or int(directories_number) == 2 or int(directories_number) == 3:\n",
    "         print('введенная полка уже существует')\n",
    "    else:    \n",
    "        directories[directories_number] = []\n",
    "        print(f\"Полка добавлена. Текущий перечень полок: {list(directories.keys())}\")\n",
    "\n",
    "def delete_polka(number):\n",
    "      if number in directories:\n",
    "            if directories[number]:\n",
    "                print(\"полку удалить нельзя\")\n",
    "            else:\n",
    "                del directories[number]\n",
    "                print(f\"полка удалена: {list(directories.keys())}\")\n",
    "        \n",
    "while True:\n",
    "    a=input('\\n Введите одну из команд: p, l, s,  as, ad \\n  Ваша команда:')\n",
    "    if a=='p':\n",
    "        people(input(\"введите номер документа\"))\n",
    "    elif a=='s':\n",
    "        safe(input(\"введите номер документа\"))\n",
    "    elif a=='l':\n",
    "        information()\n",
    "    elif a=='as':\n",
    "        polka(input(\"введите номер полки\"))\n",
    "    elif a=='ad':\n",
    "        delete_polka(input(\"введите номер полки\"))\n",
    "    else:\n",
    "        print('Вы ввели некорректную команду, повторите ввод.')\n"
   ]
  },
  {
   "cell_type": "raw",
   "metadata": {},
   "source": []
  }
 ],
 "metadata": {
  "kernelspec": {
   "display_name": "Python 3",
   "language": "python",
   "name": "python3"
  },
  "language_info": {
   "codemirror_mode": {
    "name": "ipython",
    "version": 3
   },
   "file_extension": ".py",
   "mimetype": "text/x-python",
   "name": "python",
   "nbconvert_exporter": "python",
   "pygments_lexer": "ipython3",
   "version": "3.8.5"
  }
 },
 "nbformat": 4,
 "nbformat_minor": 4
}
