{
 "cells": [
  {
   "cell_type": "code",
   "execution_count": 6,
   "metadata": {},
   "outputs": [
    {
     "name": "stdout",
     "output_type": "stream",
     "text": [
      "{98, 35, 15, 213, 54, 119}\n"
     ]
    }
   ],
   "source": [
    "#Задание 1\n",
    "ids = {'user1': [213, 213, 213, 15, 213],\n",
    "'user2' : [54, 54, 119, 119, 119],\n",
    "'user3': [213, 98, 98, 35]\n",
    "      }\n",
    "spisok = ids.values()\n",
    "newspisok = []\n",
    "for i in spisok:\n",
    "    for j in i:\n",
    "        newspisok.append(j)\n",
    "print(set(newspisok))\n"
   ]
  },
  {
   "cell_type": "code",
   "execution_count": 7,
   "metadata": {},
   "outputs": [
    {
     "name": "stdout",
     "output_type": "stream",
     "text": [
      "Поисковых запросов, содержащих 2 слов(а): 42.86 %\n",
      "Поисковых запросов, содержащих 3 слов(а): 57.14 %\n"
     ]
    }
   ],
   "source": [
    "#задание 2\n",
    "queries = [\n",
    "'смотреть сериалы онлайн',\n",
    "'новости спорта',\n",
    "'афиша кино',\n",
    "'курс доллара',\n",
    "'сериалы этим летом',\n",
    "'курс по питону',\n",
    "'сериалы про спорт',\n",
    "]\n",
    "sum_1 = 0\n",
    "sum_2 = 0\n",
    "for words in queries:\n",
    "    if len(words.split())==2:\n",
    "        sum_1+=1\n",
    "    elif len(words.split())==3:\n",
    "        sum_2+=1\n",
    "    else: \n",
    "        print(\"not found\")\n",
    "all_sum=sum_1+sum_2\n",
    "print('Поисковых запросов, содержащих 2 слов(а):', round((sum_1/all_sum)*100, 2),'%')\n",
    "print('Поисковых запросов, содержащих 3 слов(а):', round((sum_2/all_sum)*100, 2),'%')"
   ]
  },
  {
   "cell_type": "code",
   "execution_count": 8,
   "metadata": {},
   "outputs": [
    {
     "name": "stdout",
     "output_type": "stream",
     "text": [
      "vk {'revenue': 103, 'cost': 98, 'ROI': 5.102040816326525}\n",
      "yandex {'revenue': 179, 'cost': 153, 'ROI': 16.99346405228759}\n",
      "facebook {'revenue': 103, 'cost': 110, 'ROI': -6.36363636363636}\n",
      "adwords {'revenue': 35, 'cost': 34, 'ROI': 2.941176470588225}\n",
      "twitter {'revenue': 11, 'cost': 24, 'ROI': -54.16666666666667}\n"
     ]
    }
   ],
   "source": [
    "#Задание 3\n",
    "results = {\n",
    "'vk': {'revenue': 103, 'cost': 98},\n",
    "'yandex': {'revenue': 179, 'cost': 153},\n",
    "'facebook': {'revenue': 103, 'cost': 110},\n",
    "'adwords': {'revenue': 35, 'cost': 34},\n",
    "'twitter': {'revenue': 11, 'cost': 24},\n",
    "}\n",
    "for k, v in results.items():\n",
    "    #print('revenue', v['revenue'])\n",
    "    #print('cost', v['cost'])\n",
    "    v['ROI'] =((v['revenue'] / v['cost'] - 1) * 100)\n",
    "    #print('ROI', v['ROI'])\n",
    "    print(k,v)"
   ]
  },
  {
   "cell_type": "code",
   "execution_count": 9,
   "metadata": {},
   "outputs": [
    {
     "name": "stdout",
     "output_type": "stream",
     "text": [
      "Максимальный объем продаж на рекламном канале: vk\n"
     ]
    }
   ],
   "source": [
    "#Задание 4\n",
    "stats = {'facebook': 55, 'yandex': 115, 'vk': 120, 'google': 99, 'email': 42, 'ok': 98}\n",
    "max_value=0\n",
    "for k,v  in stats.items():\n",
    "    if v>max_value:\n",
    "         max_value = v\n",
    "         max_key = k\n",
    "print('Максимальный объем продаж на рекламном канале:', max_key)"
   ]
  }
 ],
 "metadata": {
  "kernelspec": {
   "display_name": "Python 3",
   "language": "python",
   "name": "python3"
  },
  "language_info": {
   "codemirror_mode": {
    "name": "ipython",
    "version": 3
   },
   "file_extension": ".py",
   "mimetype": "text/x-python",
   "name": "python",
   "nbconvert_exporter": "python",
   "pygments_lexer": "ipython3",
   "version": "3.8.5"
  }
 },
 "nbformat": 4,
 "nbformat_minor": 4
}
