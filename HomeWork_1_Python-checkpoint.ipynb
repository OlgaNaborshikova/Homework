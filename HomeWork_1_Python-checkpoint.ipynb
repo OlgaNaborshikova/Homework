{
 "cells": [
  {
   "cell_type": "code",
   "execution_count": null,
   "metadata": {},
   "outputs": [],
   "source": [
    "#Домашнее задание \"Основы питон\"- Задание 1\n",
    "phrase_1=input('')\n",
    "phrase_2=input('')\n",
    "if len(phrase_1)>len(phrase_2): print(phrase_1,\"длинее фразы\",phrase_2)\n",
    "if len(phrase_1)<len(phrase_2): print (phrase_2,\"длинее фразы\",phrase_1) \n",
    "else: print ('фразы равной длины')"
   ]
  },
  {
   "cell_type": "code",
   "execution_count": null,
   "metadata": {},
   "outputs": [],
   "source": [
    "#Домашнее задание \"Основы питон\" - Задание 2\n",
    "year=int(input(''))\n",
    "if (year % 4 == 0) and (year % 100 != 0) or (year % 400 == 0) : print ('високосный год')\n",
    "else: print ('обычный год')"
   ]
  },
  {
   "cell_type": "code",
   "execution_count": null,
   "metadata": {},
   "outputs": [],
   "source": [
    "#Домашнее задание \"Основы питон\" - Задание 3\n",
    "date=int(input('введите день рождения:'))\n",
    "month=(input('введите месяц рождения:'))\n",
    "if (date>=21 and date<=31 and month=='март') or (date>=1 and date<=20 and month=='апрель') : print ('овен')\n",
    "if (date>=21 and date<=31 and month=='апрель') or (date>=1 and date<=20 and month=='май') : print ('телец')\n",
    "if (date>=22 and date<=31 and month=='май') or (date>=1 and date<=21 and  month=='июнь') : print ('близнецы')\n",
    "if (date>=22 and date<=31 and month=='июнь') or ( date>=1 and date<=22 and month=='июль') : print ('рак')\n",
    "if (date>=23 and date<=31 and month=='июль') or (date>=1 and date<=23 and month=='август') : print ('лев')\n",
    "if (date>=22 and date<=31 and month=='август') or (date>=1 and date<=23 and month=='сентябрь') : print ('дева')\n",
    "if (date>=24 and date<=31 and month=='сентябрь') or (date>=1 and date<=23 and month=='октябрь') : print ('весы')\n",
    "if (date>=24 and date<=31 and month=='октябрь') or (date>=1 and date<=22 and month=='ноябрь') : print ('скорпион')\n",
    "if (date>=23 and date<=31  and month=='ноябрь') or (date>=1 and date<=22 and month=='декабрь') : print ('стрелец')\n",
    "if (date>=23 and date<=31 and month=='декабрь') or (date>=1 and date<=20 and month=='январь') : print ('козерог')\n",
    "if (date>=21 and date<=31 and month=='январь') or (date>=1 and date<=19 and month=='февраль') : print ('водолей')\n",
    "if (date>=20 and date<=31 and month=='февраль') or (date>=1 and date<=20 and month=='март') : print ('рыбы')\n",
    "else: print ('ошибка ввода')"
   ]
  },
  {
   "cell_type": "code",
   "execution_count": null,
   "metadata": {},
   "outputs": [],
   "source": [
    "#Домашнее задание \"Основы питон\" - Задание 4(\n",
    "width=int(input('введите ширину в сантиметрах:'))\n",
    "length=int(input('введите длину в сантиметрах:'))\n",
    "height=int(input('введите высоту в сантиметрах:'))\n",
    "if (width<15 and length<15 and height<15) : print('Коробка №1')\n",
    "if (width<50  and width>15 and length<50 and length>15 and  height<50 and height>15) : print('Коробка №2')\n",
    "if (height > 200) : print('Упаковка для лыж')\n",
    "else : print ('стандартная коробка №2')"
   ]
  }
 ],
 "metadata": {
  "kernelspec": {
   "display_name": "Python 3",
   "language": "python",
   "name": "python3"
  },
  "language_info": {
   "codemirror_mode": {
    "name": "ipython",
    "version": 3
   },
   "file_extension": ".py",
   "mimetype": "text/x-python",
   "name": "python",
   "nbconvert_exporter": "python",
   "pygments_lexer": "ipython3",
   "version": "3.8.5"
  }
 },
 "nbformat": 4,
 "nbformat_minor": 4
}
