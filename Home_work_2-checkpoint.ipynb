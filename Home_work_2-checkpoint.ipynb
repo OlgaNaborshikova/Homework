{
 "cells": [
  {
   "cell_type": "code",
   "execution_count": 19,
   "metadata": {},
   "outputs": [
    {
     "name": "stdout",
     "output_type": "stream",
     "text": [
      "домовойу\n",
      "ов\n"
     ]
    }
   ],
   "source": [
    "#Задача№1 к лекции введение в типы данных\n",
    "slovo=input('')\n",
    "length=len(slovo)\n",
    "center=int(length/2)\n",
    "if length%2==0:print(slovo[center-1:center+1])\n",
    "else:print(slovo[center],'нечетное')"
   ]
  },
  {
   "cell_type": "code",
   "execution_count": 3,
   "metadata": {
    "collapsed": true
   },
   "outputs": [
    {
     "name": "stdout",
     "output_type": "stream",
     "text": [
      "введите число 2\n",
      "введите число 2\n",
      "введите число 0\n",
      "сумма: 4\n"
     ]
    }
   ],
   "source": [
    "#Задача№2 к лекции введение в типы данных\n",
    "num=int(input(\"введите число \", ))\n",
    "sum=0\n",
    "while num!=0:\n",
    "    sum=sum+num\n",
    "    num=int(input(\"введите число \",))\n",
    "print(\"сумма:\",sum)"
   ]
  },
  {
   "cell_type": "code",
   "execution_count": 4,
   "metadata": {},
   "outputs": [
    {
     "name": "stdout",
     "output_type": "stream",
     "text": [
      "ВНимание! Кто-то может остаться без пары!\n"
     ]
    }
   ],
   "source": [
    "#Задача№3 к лекции введение в типы данных\n",
    "boys=['Peter','Jhon','Arthur','Richard']\n",
    "girls=['Kate','liza','Emma']\n",
    "if len(boys)!=len(girls): print('ВНимание! Кто-то может остаться без пары!')\n",
    "else: print (list(zip(boys,girls)))"
   ]
  },
  {
   "cell_type": "code",
   "execution_count": 2,
   "metadata": {},
   "outputs": [
    {
     "name": "stdout",
     "output_type": "stream",
     "text": [
      "Thailand - 23.9 C\n",
      "Germany - 13.8 C\n",
      "Russia - 3.7 C\n",
      "Poland - 12.0 C\n"
     ]
    }
   ],
   "source": [
    "#Задача№4 к лекции введение в типы данных\n",
    "countries_temperature = [\n",
    "    ['Thailand',[75.2,77,78.8,73.4,68,75.2,77]],\n",
    "    ['Germany',[57.2,55.4,59,59,53.6]],\n",
    "    ['Russia',[35.6,37.4,39.2,41,42.8,39.2,35.6]],\n",
    "    ['Poland',[50,50,53.6,57.2,55.4,55.4]]\n",
    "]\n",
    "\n",
    "for i in countries_temperature:\n",
    "    print(i[0],'-', round((sum(i[1])/len(i[1])-32)/1.8,1),'C')"
   ]
  },
  {
   "cell_type": "code",
   "execution_count": null,
   "metadata": {},
   "outputs": [],
   "source": []
  }
 ],
 "metadata": {
  "kernelspec": {
   "display_name": "Python 3",
   "language": "python",
   "name": "python3"
  },
  "language_info": {
   "codemirror_mode": {
    "name": "ipython",
    "version": 3
   },
   "file_extension": ".py",
   "mimetype": "text/x-python",
   "name": "python",
   "nbconvert_exporter": "python",
   "pygments_lexer": "ipython3",
   "version": "3.8.5"
  }
 },
 "nbformat": 4,
 "nbformat_minor": 4
}
