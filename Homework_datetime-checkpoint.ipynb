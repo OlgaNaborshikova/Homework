{
 "cells": [
  {
   "cell_type": "code",
   "execution_count": 1,
   "metadata": {},
   "outputs": [],
   "source": [
    "import datetime"
   ]
  },
  {
   "cell_type": "code",
   "execution_count": 2,
   "metadata": {},
   "outputs": [
    {
     "name": "stdout",
     "output_type": "stream",
     "text": [
      "10-02-Wed-2002\n"
     ]
    }
   ],
   "source": [
    "from datetime import datetime\n",
    "str = \"Wednesday, October 2, 2002\"\n",
    "PATTERN_IN = \"%A, %B%d, %Y\"\n",
    "PATTERN_OUT = \"%m-%d-%a-%Y\"\n",
    "date = datetime.strptime(str, PATTERN_IN)\n",
    "print(datetime.strftime(date, PATTERN_OUT))"
   ]
  },
  {
   "cell_type": "code",
   "execution_count": 3,
   "metadata": {},
   "outputs": [
    {
     "name": "stdout",
     "output_type": "stream",
     "text": [
      "10-11-Fri-2013\n"
     ]
    }
   ],
   "source": [
    "from datetime import datetime\n",
    "str = \"Friday, 11.10.13\"\n",
    "PATTERN_IN = \"%A, %d.%m.%y\"\n",
    "PATTERN_OUT = \"%m-%d-%a-%Y\"\n",
    "date = datetime.strptime(str, PATTERN_IN)\n",
    "print(datetime.strftime(date, PATTERN_OUT))"
   ]
  },
  {
   "cell_type": "code",
   "execution_count": 4,
   "metadata": {},
   "outputs": [
    {
     "name": "stdout",
     "output_type": "stream",
     "text": [
      "08-18-Thu-1977\n"
     ]
    }
   ],
   "source": [
    "from datetime import datetime\n",
    "str = \"Thursday, 18 August 1977\"\n",
    "PATTERN_IN = \"%A, %d %B %Y\"\n",
    "PATTERN_OUT = \"%m-%d-%a-%Y\"\n",
    "date = datetime.strptime(str, PATTERN_IN)\n",
    "print(datetime.strftime(date, PATTERN_OUT))"
   ]
  },
  {
   "cell_type": "code",
   "execution_count": 5,
   "metadata": {},
   "outputs": [
    {
     "name": "stdout",
     "output_type": "stream",
     "text": [
      "True\n",
      "false\n",
      "false\n"
     ]
    }
   ],
   "source": [
    "from datetime import datetime\n",
    "stream = ['2018-04-02', '2018-02-29', '2018-19-02']\n",
    "def check_date(list_date):\n",
    "    for date in list_date:\n",
    "        try:\n",
    "            valid_date = datetime.strptime(date, '%Y-%m-%d')\n",
    "            print('True')\n",
    "        except ValueError:\n",
    "            print('false')\n",
    "check_date(stream)"
   ]
  },
  {
   "cell_type": "code",
   "execution_count": 3,
   "metadata": {},
   "outputs": [
    {
     "name": "stdout",
     "output_type": "stream",
     "text": [
      "Начальная дата в формате YYYY-MM-DD: 2020-12-01\n",
      "Дата окончания в формате YYYY-MM-DD: 2020-12-02\n"
     ]
    },
    {
     "data": {
      "text/plain": [
       "['2020-12-01', '2020-12-02']"
      ]
     },
     "execution_count": 3,
     "metadata": {},
     "output_type": "execute_result"
    }
   ],
   "source": [
    "from datetime import datetime\n",
    "from datetime import timedelta\n",
    "start_date=input('Начальная дата в формате YYYY-MM-DD: ')\n",
    "end_date=input('Дата окончания в формате YYYY-MM-DD: ')\n",
    "def date_range (start, end): \n",
    "    days=[]\n",
    "    try:\n",
    "        start_datetime=datetime.strptime(start,'%Y-%m-%d')\n",
    "        end_datetime=datetime.strptime(end,'%Y-%m-%d')    \n",
    "    except ValueError:\n",
    "        return days\n",
    "   \n",
    "    if start_datetime<end_datetime:\n",
    "        average_datetime=start_datetime\n",
    "        while average_datetime<=end_datetime:\n",
    "            print_datetime=datetime.strftime(average_datetime,'%Y-%m-%d') \n",
    "            days.append(print_datetime) \n",
    "            average_datetime=average_datetime+timedelta(days=1)\n",
    "    return days\n",
    "date_range(start_date, end_date)"
   ]
  },
  {
   "cell_type": "code",
   "execution_count": null,
   "metadata": {},
   "outputs": [],
   "source": []
  }
 ],
 "metadata": {
  "kernelspec": {
   "display_name": "Python 3",
   "language": "python",
   "name": "python3"
  },
  "language_info": {
   "codemirror_mode": {
    "name": "ipython",
    "version": 3
   },
   "file_extension": ".py",
   "mimetype": "text/x-python",
   "name": "python",
   "nbconvert_exporter": "python",
   "pygments_lexer": "ipython3",
   "version": "3.8.5"
  }
 },
 "nbformat": 4,
 "nbformat_minor": 4
}
