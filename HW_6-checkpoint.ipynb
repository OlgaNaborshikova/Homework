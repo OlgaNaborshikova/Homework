{
 "cells": [
  {
   "cell_type": "code",
   "execution_count": 15,
   "metadata": {},
   "outputs": [],
   "source": [
    "import re"
   ]
  },
  {
   "cell_type": "code",
   "execution_count": 3,
   "metadata": {},
   "outputs": [
    {
     "name": "stdout",
     "output_type": "stream",
     "text": [
      "А222ТМ96\n",
      "Номер А222ТМ валиден. Регион:96\n"
     ]
    }
   ],
   "source": [
    "nomer=input('')\n",
    "pattern=re.findall(r'(^[АВЕКМНОРСТУХ]\\d{3}[АВЕКМНОРСТУХ]{2})(\\d{2,3}$)',nomer)\n",
    "if pattern:\n",
    "    print(f'Номер {pattern[0][0]} валиден. Регион:{pattern[0][1]}')\n",
    "else:\n",
    "    print('Номер не валиден')"
   ]
  },
  {
   "cell_type": "code",
   "execution_count": 17,
   "metadata": {
    "scrolled": true
   },
   "outputs": [
    {
     "name": "stdout",
     "output_type": "stream",
     "text": [
      "Напишите функцию, которая будет удалять все последовательные повторы слов из заданной строки при помощи регулярных выражений\n"
     ]
    }
   ],
   "source": [
    "some_string = 'Напишите функцию функцию, которая будет будет будет будет удалять все все все все последовательные повторы слов из из из из заданной строки строки при помощи регулярных выражений'\n",
    "result_2=re.sub(r'\\b([^\\W\\d_]+)(\\s+\\1)+\\b',r'\\1',some_string, flags=re.I)\n",
    "print(result_2)"
   ]
  },
  {
   "cell_type": "code",
   "execution_count": 5,
   "metadata": {},
   "outputs": [
    {
     "name": "stdout",
     "output_type": "stream",
     "text": [
      "Рррр РПИИ\n",
      "РР\n"
     ]
    }
   ],
   "source": [
    "slovo=input('')\n",
    "pattern_2=re.findall(r'\\b\\w{1}',slovo)\n",
    "print(''.join(pattern_2))"
   ]
  },
  {
   "cell_type": "code",
   "execution_count": 6,
   "metadata": {},
   "outputs": [
    {
     "name": "stdout",
     "output_type": "stream",
     "text": [
      "gmail.com 2\n",
      "test.in 1\n",
      "ya.ru 2\n",
      "mail.ru 1\n"
     ]
    }
   ],
   "source": [
    "from collections import Counter\n",
    "emails = ['test@gmail.com', 'xyz@test.in', 'test@ya.ru', 'xyz@mail.ru', 'xyz@ya.ru', 'xyz@gmail.com','h@t.v']\n",
    "pattern=r'(^[a-zA-Z0-9_]{3,}\\@)([a-zA-Z0-9_]{2,}\\.+[^0-9,:;!#%*()=+{}’/\\|\\s]{2,4})'\n",
    "list_domens=[]\n",
    "for elem in emails:\n",
    "    result=re.findall(pattern,elem)\n",
    "    \n",
    "    if result:\n",
    "       # print(result[0][1])\n",
    "        list_domens.append(result[0][1])\n",
    "for key,value in Counter(list_domens).items():\n",
    "    print(key,value)"
   ]
  }
 ],
 "metadata": {
  "kernelspec": {
   "display_name": "Python 3",
   "language": "python",
   "name": "python3"
  },
  "language_info": {
   "codemirror_mode": {
    "name": "ipython",
    "version": 3
   },
   "file_extension": ".py",
   "mimetype": "text/x-python",
   "name": "python",
   "nbconvert_exporter": "python",
   "pygments_lexer": "ipython3",
   "version": "3.8.5"
  }
 },
 "nbformat": 4,
 "nbformat_minor": 4
}
